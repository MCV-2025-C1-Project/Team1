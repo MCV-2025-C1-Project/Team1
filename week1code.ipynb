{
 "cells": [
  {
   "cell_type": "markdown",
   "id": "17117be5",
   "metadata": {},
   "source": [
    "# C1 – Week 1: Content-Based Image Retrieval\n",
    "\n",
    "**Team 1:**\n",
    "- GARCÍA TAPIA, Adrián  \n",
    "- SABATER OLIVERAS, Maiol  \n",
    "- VILAPLANA PELEGRÍ, Gerard  \n",
    "- GARCIA TORNÉ, Júlia  \n",
    "\n",
    "---\n"
   ]
  },
  {
   "cell_type": "code",
   "execution_count": null,
   "id": "0b9a46f4",
   "metadata": {},
   "outputs": [],
   "source": [
    "# Imports\n",
    "\n",
    "import os"
   ]
  },
  {
   "cell_type": "code",
   "execution_count": null,
   "id": "4464bd1e",
   "metadata": {},
   "outputs": [],
   "source": [
    "# Base paths\n",
    "DATASET_DIR = \"./datasets/\"\n",
    "DESCRIPTORS_DIR = \"./descriptors/\"\n",
    "RESULTS_DIR = \"./results/\"\n",
    "\n",
    "# Sub-paths\n",
    "BBDD_PATH = os.path.join(DATASET_DIR, \"BBDD/\")\n",
    "QSD1_PATH = os.path.join(DATASET_DIR, \"qsd1_w1/\")\n",
    "QST1_PATH = os.path.join(DATASET_DIR, \"qst1_w1/\")"
   ]
  },
  {
   "cell_type": "markdown",
   "id": "0022346b",
   "metadata": {},
   "source": [
    "---\n",
    "\n",
    "### Task 1 — Create Image Descriptors\n",
    "- Compute descriptors for:\n",
    "  - **Museum** images (**BBDD**)\n",
    "  - **Query** images (**QSD1**)\n"
   ]
  },
  {
   "cell_type": "code",
   "execution_count": null,
   "id": "7a126995",
   "metadata": {},
   "outputs": [],
   "source": [
    "# code"
   ]
  },
  {
   "cell_type": "markdown",
   "id": "e10be564",
   "metadata": {},
   "source": [
    "---\n",
    "### Task 2 — Similarity Measures\n",
    "- Implement / compute similarity metrics to compare image descriptors."
   ]
  },
  {
   "cell_type": "code",
   "execution_count": null,
   "id": "e178d59b",
   "metadata": {},
   "outputs": [],
   "source": [
    "# Code"
   ]
  },
  {
   "cell_type": "markdown",
   "id": "495d7e4e",
   "metadata": {},
   "source": [
    "---\n",
    "### Task 3 — Retrieval System\n",
    "- For each query image, **retrieve the Top-K** most similar images from **BBDD**, **sorted by score**."
   ]
  },
  {
   "cell_type": "code",
   "execution_count": null,
   "id": "4201da83",
   "metadata": {},
   "outputs": [],
   "source": [
    "# Code"
   ]
  },
  {
   "cell_type": "markdown",
   "id": "31fa3193",
   "metadata": {},
   "source": [
    "---\n",
    "### Task 4 — Blind Challenge Predictions\n",
    "- Generate predictions for **`QST1`** (blind challenge)."
   ]
  },
  {
   "cell_type": "code",
   "execution_count": 1,
   "id": "8ecafcb0",
   "metadata": {},
   "outputs": [],
   "source": [
    "# Code"
   ]
  }
 ],
 "metadata": {
  "kernelspec": {
   "display_name": "ai_env",
   "language": "python",
   "name": "python3"
  },
  "language_info": {
   "codemirror_mode": {
    "name": "ipython",
    "version": 3
   },
   "file_extension": ".py",
   "mimetype": "text/x-python",
   "name": "python",
   "nbconvert_exporter": "python",
   "pygments_lexer": "ipython3",
   "version": "3.10.15"
  }
 },
 "nbformat": 4,
 "nbformat_minor": 5
}
